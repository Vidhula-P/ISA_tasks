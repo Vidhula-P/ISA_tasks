{
 "cells": [
  {
   "cell_type": "code",
   "execution_count": 1,
   "metadata": {},
   "outputs": [],
   "source": [
    "import pandas as pd\n",
    "df = pd.read_csv('C:\\Anaconda\\weatherAUS.csv')"
   ]
  },
  {
   "cell_type": "code",
   "execution_count": 2,
   "metadata": {},
   "outputs": [
    {
     "name": "stdout",
     "output_type": "stream",
     "text": [
      "   Average Maximum Temperature  Average Minimum Temperature  \\\n",
      "0                    23.221348                    12.194034   \n",
      "\n",
      "   Average Maximum Temperature in the Location Cobar  \\\n",
      "0                                          25.870093   \n",
      "\n",
      "   Count of null value in Sunshine  Count of null value in Evaporation  \n",
      "0                            69835                               62790  \n"
     ]
    }
   ],
   "source": [
    "#Level 1\n",
    "Avg_MaxTemp= df['MaxTemp'].mean()\n",
    "Avg_MinTemp= df['MinTemp'].mean()\n",
    "cobar = df[df['Location'] == 'Cobar']\n",
    "Cobar_Avg_MaxTemp = cobar['MaxTemp'].mean()\n",
    "Null_Sunshine = df['Sunshine'].isna().sum()\n",
    "Null_Evaporation = df['Evaporation'].isna().sum()\n",
    "output = {\"Average Maximum Temperature\":[Avg_MaxTemp],\n",
    "          \"Average Minimum Temperature\":[Avg_MinTemp],\n",
    "          \"Average Maximum Temperature in the Location Cobar\":[Cobar_Avg_MaxTemp],\n",
    "          \"Count of null value in Sunshine\":[Null_Sunshine],\n",
    "          \"Count of null value in Evaporation\":[Null_Evaporation]}\n",
    "df2 = pd.DataFrame(output)\n",
    "print(df2)"
   ]
  },
  {
   "cell_type": "code",
   "execution_count": 3,
   "metadata": {},
   "outputs": [
    {
     "name": "stdout",
     "output_type": "stream",
     "text": [
      "Enter location to look at data- Albury\n",
      "            Date Location  MinTemp  MaxTemp  Rainfall  Evaporation  Sunshine  \\\n",
      "0     2008-12-01   Albury     13.4     22.9       0.6          NaN       NaN   \n",
      "1     2008-12-02   Albury      7.4     25.1       0.0          NaN       NaN   \n",
      "2     2008-12-03   Albury     12.9     25.7       0.0          NaN       NaN   \n",
      "3     2008-12-04   Albury      9.2     28.0       0.0          NaN       NaN   \n",
      "4     2008-12-05   Albury     17.5     32.3       1.0          NaN       NaN   \n",
      "...          ...      ...      ...      ...       ...          ...       ...   \n",
      "3035  2017-06-21   Albury      1.2     15.2       0.4          NaN       NaN   \n",
      "3036  2017-06-22   Albury      0.8     13.4       0.0          NaN       NaN   \n",
      "3037  2017-06-23   Albury      1.1     11.9       0.0          NaN       NaN   \n",
      "3038  2017-06-24   Albury      1.1     14.1       0.2          NaN       NaN   \n",
      "3039  2017-06-25   Albury      3.9     10.9       0.0          NaN       NaN   \n",
      "\n",
      "     WindGustDir  WindGustSpeed WindDir9am  ... Humidity9am  Humidity3pm  \\\n",
      "0              W           44.0          W  ...        71.0         22.0   \n",
      "1            WNW           44.0        NNW  ...        44.0         25.0   \n",
      "2            WSW           46.0          W  ...        38.0         30.0   \n",
      "3             NE           24.0         SE  ...        45.0         16.0   \n",
      "4              W           41.0        ENE  ...        82.0         33.0   \n",
      "...          ...            ...        ...  ...         ...          ...   \n",
      "3035         ENE           15.0        NaN  ...       100.0         62.0   \n",
      "3036           W           17.0          S  ...       100.0         66.0   \n",
      "3037          SE           44.0        SSE  ...       100.0         81.0   \n",
      "3038         WSW           28.0         SW  ...       100.0         49.0   \n",
      "3039         NNW           28.0          S  ...        88.0         82.0   \n",
      "\n",
      "      Pressure9am  Pressure3pm  Cloud9am  Cloud3pm  Temp9am  Temp3pm  \\\n",
      "0          1007.7       1007.1       8.0       NaN     16.9     21.8   \n",
      "1          1010.6       1007.8       NaN       NaN     17.2     24.3   \n",
      "2          1007.6       1008.7       NaN       2.0     21.0     23.2   \n",
      "3          1017.6       1012.8       NaN       NaN     18.1     26.5   \n",
      "4          1010.8       1006.0       7.0       8.0     17.8     29.7   \n",
      "...           ...          ...       ...       ...      ...      ...   \n",
      "3035       1029.4       1026.7       8.0       NaN      2.9     14.3   \n",
      "3036       1029.4       1025.9       8.0       1.0      3.6     13.3   \n",
      "3037       1022.3       1017.7       8.0       1.0      2.7     10.2   \n",
      "3038       1018.8       1017.2       7.0       6.0      3.9     13.1   \n",
      "3039       1020.5       1018.8       7.0       8.0      6.4      8.8   \n",
      "\n",
      "      RainToday  RainTomorrow  \n",
      "0            No            No  \n",
      "1            No            No  \n",
      "2            No            No  \n",
      "3            No            No  \n",
      "4            No            No  \n",
      "...         ...           ...  \n",
      "3035         No            No  \n",
      "3036         No            No  \n",
      "3037         No            No  \n",
      "3038         No            No  \n",
      "3039         No           Yes  \n",
      "\n",
      "[3040 rows x 23 columns]\n"
     ]
    }
   ],
   "source": [
    "#Level3\n",
    "def location(Loca):\n",
    "    data = df[df['Location'] == Loca]\n",
    "    return(data)\n",
    "find_loca = input(\"Enter location to look at data- \")\n",
    "print(location(find_loca))"
   ]
  },
  {
   "cell_type": "code",
   "execution_count": 4,
   "metadata": {},
   "outputs": [],
   "source": [
    "#Level 2\n",
    "Avg_Evap= df['Evaporation'].mean()\n",
    "df[\"Evaporation\"].fillna(Avg_Evap, inplace = True)\n",
    "df1=df.dropna(axis=1)\n",
    "df2=df.drop('Date', axis =1)"
   ]
  },
  {
   "cell_type": "code",
   "execution_count": null,
   "metadata": {},
   "outputs": [],
   "source": []
  }
 ],
 "metadata": {
  "kernelspec": {
   "display_name": "Python 3",
   "language": "python",
   "name": "python3"
  },
  "language_info": {
   "codemirror_mode": {
    "name": "ipython",
    "version": 3
   },
   "file_extension": ".py",
   "mimetype": "text/x-python",
   "name": "python",
   "nbconvert_exporter": "python",
   "pygments_lexer": "ipython3",
   "version": "3.8.3"
  }
 },
 "nbformat": 4,
 "nbformat_minor": 4
}
